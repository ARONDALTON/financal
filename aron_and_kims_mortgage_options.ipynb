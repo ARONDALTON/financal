{
 "cells": [
  {
   "cell_type": "markdown",
   "metadata": {},
   "source": [
    "# Mortgage calcs"
   ]
  },
  {
   "cell_type": "code",
   "execution_count": 25,
   "metadata": {},
   "outputs": [],
   "source": [
    "import numpy as np\n",
    "import datetime as dt"
   ]
  },
  {
   "cell_type": "code",
   "execution_count": 6,
   "metadata": {},
   "outputs": [],
   "source": [
    "bw=lambda x:x*(365/14)"
   ]
  },
  {
   "cell_type": "code",
   "execution_count": 9,
   "metadata": {},
   "outputs": [
    {
     "data": {
      "text/plain": [
       "-415.24237571936669"
      ]
     },
     "execution_count": 9,
     "metadata": {},
     "output_type": "execute_result"
    }
   ],
   "source": [
    "np.pmt(2.78/100/(365/14),bw(25),pv=195000)"
   ]
  },
  {
   "cell_type": "code",
   "execution_count": 29,
   "metadata": {},
   "outputs": [
    {
     "data": {
      "text/plain": [
       "datetime.date(2017, 10, 27)"
      ]
     },
     "execution_count": 29,
     "metadata": {},
     "output_type": "execute_result"
    }
   ],
   "source": [
    "dt.datetime.now().date().strf"
   ]
  },
  {
   "cell_type": "code",
   "execution_count": 26,
   "metadata": {},
   "outputs": [],
   "source": [
    "mort_principal = 147631.69\n",
    "borring_princple=24931.23"
   ]
  },
  {
   "cell_type": "code",
   "execution_count": 24,
   "metadata": {},
   "outputs": [
    {
     "name": "stdout",
     "output_type": "stream",
     "text": [
      "Our total debt is $ 172562.92\n"
     ]
    }
   ],
   "source": [
    "fmt = '{0:8.2f}'\n",
    "total_debt=mort_principal+borring_princple\n",
    "print('Our total debt is $',fmt.format( total_debt))"
   ]
  },
  {
   "cell_type": "markdown",
   "metadata": {},
   "source": [
    "The ‘per’ variable represents the periods of the loan. Remember that financial equations start the period count at 1!"
   ]
  },
  {
   "cell_type": "code",
   "execution_count": null,
   "metadata": {},
   "outputs": [],
   "source": [
    ">>> per = np.arange(1*12) + 1\n",
    ">>> ipmt = np.ipmt(0.0824/12, per, 1*12, principal)\n",
    ">>> ppmt = np.ppmt(0.0824/12, per, 1*12, principal)\n",
    "Each element of the sum of the ‘ipmt’ and ‘ppmt’ arrays should equal ‘pmt’.\n",
    "\n",
    ">>> pmt = np.pmt(0.0824/12, 1*12, principal)\n",
    ">>> np.allclose(ipmt + ppmt, pmt)\n",
    "True\n",
    ">>> fmt = '{0:2d} {1:8.2f} {2:8.2f} {3:8.2f}'\n",
    ">>> for payment in per:\n",
    "...     index = payment - 1\n",
    "...     principal = principal + ppmt[index]\n",
    "...     print(fmt.format(payment, ppmt[index], ipmt[index], principal))\n",
    " 1  -200.58   -17.17  2299.42\n",
    " 2  -201.96   -15.79  2097.46\n",
    " 3  -203.35   -14.40  1894.11\n",
    " 4  -204.74   -13.01  1689.37\n",
    " 5  -206.15   -11.60  1483.22\n",
    " 6  -207.56   -10.18  1275.66\n",
    " 7  -208.99    -8.76  1066.67\n",
    " 8  -210.42    -7.32   856.25\n",
    " 9  -211.87    -5.88   644.38\n",
    "10  -213.32    -4.42   431.05\n",
    "11  -214.79    -2.96   216.26\n",
    "12  -216.26    -1.49    -0.00\n",
    ">>> interestpd = np.sum(ipmt)\n",
    ">>> np.round(interestpd, 2)\n",
    "-112.98"
   ]
  }
 ],
 "metadata": {
  "kernelspec": {
   "display_name": "Python 3",
   "language": "python",
   "name": "python3"
  },
  "language_info": {
   "codemirror_mode": {
    "name": "ipython",
    "version": 3
   },
   "file_extension": ".py",
   "mimetype": "text/x-python",
   "name": "python",
   "nbconvert_exporter": "python",
   "pygments_lexer": "ipython3",
   "version": "3.6.3"
  }
 },
 "nbformat": 4,
 "nbformat_minor": 2
}
